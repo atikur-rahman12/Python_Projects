{
  "nbformat": 4,
  "nbformat_minor": 0,
  "metadata": {
    "colab": {
      "provenance": []
    },
    "kernelspec": {
      "name": "python3",
      "display_name": "Python 3"
    },
    "language_info": {
      "name": "python"
    }
  },
  "cells": [
    {
      "cell_type": "markdown",
      "source": [
        "Operators"
      ],
      "metadata": {
        "id": "gdLytVVSJHH7"
      }
    },
    {
      "cell_type": "code",
      "source": [
        "num1=int(input(\"enter number 1:\"))\n",
        "num2=int(input(\"enter number 2:\"))\n",
        "\n",
        "\n",
        "add=num1+num2\n",
        "sub=num1-num2\n",
        "mul=num1*num2\n",
        "div=num1/num2\n",
        "exp=num1**num2\n",
        "fdiv=num1//num2\n",
        "rem=num1%num2\n",
        "\n",
        "print(f\"addition:{add} subtraction:{sub} multiplication:{mul} divition:{div} exponen:{exp} florrdivision:{fdiv} reminder{rem}\")"
      ],
      "metadata": {
        "id": "zqjn8N9-JJ7z",
        "colab": {
          "base_uri": "https://localhost:8080/"
        },
        "outputId": "89f37a3f-84ba-4452-cc5e-10a9370f70d9"
      },
      "execution_count": 13,
      "outputs": [
        {
          "output_type": "stream",
          "name": "stdout",
          "text": [
            "enter number 1:12\n",
            "enter number 2:4\n",
            "addition:16 subtraction:8 multiplication:48 divition:3.0 exponen:20736 florrdivision:3 reminder0\n"
          ]
        }
      ]
    },
    {
      "cell_type": "code",
      "source": [
        "#logical operators and,or,not\n",
        "a=5\n",
        "b=7\n",
        "\n",
        "print(a<b and b>a)\n",
        "print(a>b or b>a)\n",
        "print(not(b>a))"
      ],
      "metadata": {
        "colab": {
          "base_uri": "https://localhost:8080/"
        },
        "id": "tnHbrCIGKzTJ",
        "outputId": "0d6fb05b-cf8a-479d-b641-d51c15616b63"
      },
      "execution_count": 14,
      "outputs": [
        {
          "output_type": "stream",
          "name": "stdout",
          "text": [
            "True\n",
            "True\n",
            "False\n"
          ]
        }
      ]
    },
    {
      "cell_type": "code",
      "source": [
        "# membership operators in,not in\n",
        "a=5\n",
        "b={1,2,3,4,6}\n",
        "print(a not in b)"
      ],
      "metadata": {
        "colab": {
          "base_uri": "https://localhost:8080/"
        },
        "id": "gfb0a1MkLwW_",
        "outputId": "3ab2f062-5154-4f58-ff01-e98958e95c11"
      },
      "execution_count": 15,
      "outputs": [
        {
          "output_type": "stream",
          "name": "stdout",
          "text": [
            "True\n"
          ]
        }
      ]
    },
    {
      "cell_type": "code",
      "source": [
        "# identity operators is,is not\n",
        "a=10\n",
        "b=a\n",
        "c=100\n",
        "d=10\n",
        "\n",
        "print(a is b)\n",
        "print(a is not b)\n",
        "print(a is c)\n",
        "print(a is d)"
      ],
      "metadata": {
        "colab": {
          "base_uri": "https://localhost:8080/"
        },
        "id": "V90i6hayMJx5",
        "outputId": "f8854fc4-c360-4eb2-c4bf-04f4e574c3bb"
      },
      "execution_count": 16,
      "outputs": [
        {
          "output_type": "stream",
          "name": "stdout",
          "text": [
            "True\n",
            "False\n",
            "False\n",
            "True\n"
          ]
        }
      ]
    },
    {
      "cell_type": "code",
      "source": [
        "x=5+2*3**2//4-1\n",
        "print(x)"
      ],
      "metadata": {
        "colab": {
          "base_uri": "https://localhost:8080/"
        },
        "id": "L7dvVrTDMy7N",
        "outputId": "2f1b525b-e4bd-4e72-8fbd-7ff6d2f386da"
      },
      "execution_count": 17,
      "outputs": [
        {
          "output_type": "stream",
          "name": "stdout",
          "text": [
            "8\n"
          ]
        }
      ]
    }
  ]
}