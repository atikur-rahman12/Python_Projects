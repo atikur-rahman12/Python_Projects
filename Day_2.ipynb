{
  "nbformat": 4,
  "nbformat_minor": 0,
  "metadata": {
    "colab": {
      "provenance": []
    },
    "kernelspec": {
      "name": "python3",
      "display_name": "Python 3"
    },
    "language_info": {
      "name": "python"
    }
  },
  "cells": [
    {
      "cell_type": "markdown",
      "source": [
        "scope of variables"
      ],
      "metadata": {
        "id": "w9xLT7oWDVBK"
      }
    },
    {
      "cell_type": "code",
      "execution_count": null,
      "metadata": {
        "colab": {
          "base_uri": "https://localhost:8080/"
        },
        "id": "qrtomvKDCXLB",
        "outputId": "7a86ed7b-dd33-42ba-b8c8-10e4fc8296c9"
      },
      "outputs": [
        {
          "output_type": "stream",
          "name": "stdout",
          "text": [
            "20\n",
            "20\n"
          ]
        }
      ],
      "source": [
        "x=20  # globally\n",
        "\n",
        "def func():\n",
        "  print(x)\n",
        "\n",
        "\n",
        "func()\n",
        "print(x)"
      ]
    },
    {
      "cell_type": "markdown",
      "source": [
        "user I/Q"
      ],
      "metadata": {
        "id": "SJ4cTjZ_EDzd"
      }
    },
    {
      "cell_type": "code",
      "source": [
        "name= input(\"enter your name:\")\n",
        "print(name)\n",
        "type(name)\n",
        "\n",
        "age= int(input(\"enter your age:\"))\n",
        "print(age)\n",
        "type(age)"
      ],
      "metadata": {
        "colab": {
          "base_uri": "https://localhost:8080/"
        },
        "id": "A6JV3jYsEI51",
        "outputId": "21771381-0738-4350-92c9-ded8b004661a"
      },
      "execution_count": null,
      "outputs": [
        {
          "output_type": "stream",
          "name": "stdout",
          "text": [
            "enter your name:atik\n",
            "atik\n",
            "enter your age:20\n",
            "20\n"
          ]
        },
        {
          "output_type": "execute_result",
          "data": {
            "text/plain": [
              "int"
            ]
          },
          "metadata": {},
          "execution_count": 3
        }
      ]
    },
    {
      "cell_type": "markdown",
      "source": [
        "value assignment"
      ],
      "metadata": {
        "id": "B4QK7LF9GJRn"
      }
    },
    {
      "cell_type": "code",
      "source": [
        "a=10\n",
        "name,age=\"kalam\",20\n",
        "\n",
        "\n",
        "type(age)"
      ],
      "metadata": {
        "id": "WClB5gp3GjT2",
        "colab": {
          "base_uri": "https://localhost:8080/"
        },
        "outputId": "1225e33b-3f23-4b6c-9486-57e91fd23eed"
      },
      "execution_count": null,
      "outputs": [
        {
          "output_type": "execute_result",
          "data": {
            "text/plain": [
              "int"
            ]
          },
          "metadata": {},
          "execution_count": 5
        }
      ]
    },
    {
      "cell_type": "code",
      "source": [
        "x=10\n",
        "del x\n",
        "print(x)"
      ],
      "metadata": {
        "colab": {
          "base_uri": "https://localhost:8080/",
          "height": 176
        },
        "id": "4D_rsJHzIYi2",
        "outputId": "b9dc7fdc-caa9-438a-949a-8262a8928982"
      },
      "execution_count": null,
      "outputs": [
        {
          "output_type": "error",
          "ename": "NameError",
          "evalue": "name 'x' is not defined",
          "traceback": [
            "\u001b[0;31m---------------------------------------------------------------------------\u001b[0m",
            "\u001b[0;31mNameError\u001b[0m                                 Traceback (most recent call last)",
            "\u001b[0;32m/tmp/ipython-input-3147098456.py\u001b[0m in \u001b[0;36m<cell line: 0>\u001b[0;34m()\u001b[0m\n\u001b[1;32m      1\u001b[0m \u001b[0mx\u001b[0m\u001b[0;34m=\u001b[0m\u001b[0;36m10\u001b[0m\u001b[0;34m\u001b[0m\u001b[0;34m\u001b[0m\u001b[0m\n\u001b[1;32m      2\u001b[0m \u001b[0;32mdel\u001b[0m \u001b[0mx\u001b[0m\u001b[0;34m\u001b[0m\u001b[0;34m\u001b[0m\u001b[0m\n\u001b[0;32m----> 3\u001b[0;31m \u001b[0mprint\u001b[0m\u001b[0;34m(\u001b[0m\u001b[0mx\u001b[0m\u001b[0;34m)\u001b[0m\u001b[0;34m\u001b[0m\u001b[0;34m\u001b[0m\u001b[0m\n\u001b[0m",
            "\u001b[0;31mNameError\u001b[0m: name 'x' is not defined"
          ]
        }
      ]
    }
  ]
}