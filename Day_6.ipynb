{
  "nbformat": 4,
  "nbformat_minor": 0,
  "metadata": {
    "colab": {
      "provenance": []
    },
    "kernelspec": {
      "name": "python3",
      "display_name": "Python 3"
    },
    "language_info": {
      "name": "python"
    }
  },
  "cells": [
    {
      "cell_type": "markdown",
      "source": [
        "Tuples and Sets"
      ],
      "metadata": {
        "id": "af2dPWqis3r3"
      }
    },
    {
      "cell_type": "code",
      "execution_count": 1,
      "metadata": {
        "colab": {
          "base_uri": "https://localhost:8080/"
        },
        "id": "RW64hGsLozIe",
        "outputId": "98520dc0-7834-4fc7-93bb-c793c4836594"
      },
      "outputs": [
        {
          "output_type": "stream",
          "name": "stdout",
          "text": [
            "(1, 2, 3, 4, 5)\n"
          ]
        }
      ],
      "source": [
        "#Tuples\n",
        "tuples=(1,2,3,4,5)\n",
        "print(tuples)"
      ]
    },
    {
      "cell_type": "code",
      "source": [
        "print(type(tuples))"
      ],
      "metadata": {
        "colab": {
          "base_uri": "https://localhost:8080/"
        },
        "id": "YMBkixgftoKM",
        "outputId": "01ee2fd1-b96d-4b58-c7f3-83abf5fc1502"
      },
      "execution_count": 2,
      "outputs": [
        {
          "output_type": "stream",
          "name": "stdout",
          "text": [
            "<class 'tuple'>\n"
          ]
        }
      ]
    },
    {
      "cell_type": "code",
      "source": [
        "tuple=(1,)\n",
        "print(type(tuple))"
      ],
      "metadata": {
        "colab": {
          "base_uri": "https://localhost:8080/"
        },
        "id": "LSa3WEMktyXZ",
        "outputId": "7453a2cd-779d-41b2-e56e-228a6d69b178"
      },
      "execution_count": 3,
      "outputs": [
        {
          "output_type": "stream",
          "name": "stdout",
          "text": [
            "<class 'tuple'>\n"
          ]
        }
      ]
    },
    {
      "cell_type": "markdown",
      "source": [
        "---\n",
        "Tuples Access and Modification"
      ],
      "metadata": {
        "id": "1DN6bmEXuGR5"
      }
    },
    {
      "cell_type": "code",
      "source": [
        "tuples=(0,9,8,7,6,5,4)\n",
        "print(tuples[-3:])\n",
        "print(tuples[-5])"
      ],
      "metadata": {
        "colab": {
          "base_uri": "https://localhost:8080/"
        },
        "id": "qI6nQMv21tBp",
        "outputId": "d5b44e55-75bc-4e6c-e5b8-e8312d9e4754"
      },
      "execution_count": 7,
      "outputs": [
        {
          "output_type": "stream",
          "name": "stdout",
          "text": [
            "(6, 5, 4)\n",
            "8\n"
          ]
        }
      ]
    },
    {
      "cell_type": "markdown",
      "source": [
        "Tuples Operation and Function"
      ],
      "metadata": {
        "id": "TEofkoX22DxD"
      }
    },
    {
      "cell_type": "code",
      "source": [
        "tuple1=(1,2,3,4,5)\n",
        "tuple2=(6,7,8,9,10)\n",
        "print(tuple1+tuple2)"
      ],
      "metadata": {
        "colab": {
          "base_uri": "https://localhost:8080/"
        },
        "id": "sWpqD_i52IF6",
        "outputId": "731bdcb5-be3e-434e-9ec8-d9e348123d68"
      },
      "execution_count": 9,
      "outputs": [
        {
          "output_type": "stream",
          "name": "stdout",
          "text": [
            "(1, 2, 3, 4, 5, 6, 7, 8, 9, 10)\n"
          ]
        }
      ]
    },
    {
      "cell_type": "code",
      "source": [
        "#len()\n",
        "#max()\n",
        "#min()\n",
        "#tuple()\n",
        "\n",
        "tuple=(2,4,6,8,10)\n",
        "print(len(tuple1))\n",
        "print(max(tuple1))\n",
        "print(min(tuple1))"
      ],
      "metadata": {
        "colab": {
          "base_uri": "https://localhost:8080/"
        },
        "id": "5oqc7Yc522BH",
        "outputId": "0964a4a4-e05e-4115-ea22-0abc6c70633d"
      },
      "execution_count": 10,
      "outputs": [
        {
          "output_type": "stream",
          "name": "stdout",
          "text": [
            "5\n",
            "5\n",
            "1\n"
          ]
        }
      ]
    },
    {
      "cell_type": "markdown",
      "source": [
        "Tuples Unpacking"
      ],
      "metadata": {
        "id": "9RwQ2T0u3bbL"
      }
    },
    {
      "cell_type": "code",
      "source": [
        "tuple=(2,5,9)\n",
        "a,b,c=tuple\n",
        "print(a,b,c)"
      ],
      "metadata": {
        "colab": {
          "base_uri": "https://localhost:8080/"
        },
        "id": "CenDzYmC3gMP",
        "outputId": "23d039a7-fec6-4c4f-c8d6-fcacb647097c"
      },
      "execution_count": 11,
      "outputs": [
        {
          "output_type": "stream",
          "name": "stdout",
          "text": [
            "2 5 9\n"
          ]
        }
      ]
    },
    {
      "cell_type": "markdown",
      "source": [
        "SET"
      ],
      "metadata": {
        "id": "DYcLxr9F3uZH"
      }
    },
    {
      "cell_type": "code",
      "source": [
        "#creating a set\n",
        "set1={1,2,3,4,2,3,5}\n",
        "set2={\"a\",\"b\",\"c\",\"d\"}\n",
        "print(set1)\n",
        "print(set2)"
      ],
      "metadata": {
        "colab": {
          "base_uri": "https://localhost:8080/"
        },
        "id": "CFoVJox33vjo",
        "outputId": "6a617327-cac2-4d2c-866a-0fd2addb8d42"
      },
      "execution_count": 13,
      "outputs": [
        {
          "output_type": "stream",
          "name": "stdout",
          "text": [
            "{1, 2, 3, 4, 5}\n",
            "{'a', 'b', 'c', 'd'}\n"
          ]
        }
      ]
    },
    {
      "cell_type": "code",
      "source": [
        "set([4,3,5,6])"
      ],
      "metadata": {
        "colab": {
          "base_uri": "https://localhost:8080/"
        },
        "id": "7Me-rJu94frp",
        "outputId": "1fa9e08a-429d-43c0-d3f4-79284836ec60"
      },
      "execution_count": 14,
      "outputs": [
        {
          "output_type": "execute_result",
          "data": {
            "text/plain": [
              "{3, 4, 5, 6}"
            ]
          },
          "metadata": {},
          "execution_count": 14
        }
      ]
    },
    {
      "cell_type": "markdown",
      "source": [
        "Accessing set items"
      ],
      "metadata": {
        "id": "iS20bcAi4mDA"
      }
    },
    {
      "cell_type": "code",
      "source": [
        "#for loop\n",
        "set={\"a\",\"b\",\"c\",\"d\"}\n",
        "for i in set:\n",
        "  print(i,end=\" \")"
      ],
      "metadata": {
        "colab": {
          "base_uri": "https://localhost:8080/"
        },
        "id": "imzIhD6n4q42",
        "outputId": "60b1d963-af81-4c5d-fa7f-2746fc5fc104"
      },
      "execution_count": 17,
      "outputs": [
        {
          "output_type": "stream",
          "name": "stdout",
          "text": [
            "a b c d "
          ]
        }
      ]
    },
    {
      "cell_type": "code",
      "source": [
        "#list Comprehension\n",
        "\n",
        "set={i for i in range(10)}\n",
        "print(set)"
      ],
      "metadata": {
        "colab": {
          "base_uri": "https://localhost:8080/"
        },
        "id": "WestxdrG5J-v",
        "outputId": "474db643-2b01-4cc7-aea3-3c4e2c68b151"
      },
      "execution_count": 19,
      "outputs": [
        {
          "output_type": "stream",
          "name": "stdout",
          "text": [
            "{0, 1, 2, 3, 4, 5, 6, 7, 8, 9}\n"
          ]
        }
      ]
    },
    {
      "cell_type": "markdown",
      "source": [
        "Add Items in Set"
      ],
      "metadata": {
        "id": "mcnhDEAC5foU"
      }
    },
    {
      "cell_type": "code",
      "source": [
        "#add()\n",
        "set={1,2,3,4,5}\n",
        "set.add(\"Apple\")\n",
        "print(set)"
      ],
      "metadata": {
        "colab": {
          "base_uri": "https://localhost:8080/"
        },
        "id": "Df-SRvVO5jLM",
        "outputId": "20e503b8-66b6-4fca-cb70-b99b4be1397a"
      },
      "execution_count": 21,
      "outputs": [
        {
          "output_type": "stream",
          "name": "stdout",
          "text": [
            "{1, 2, 3, 4, 5, 'Apple'}\n"
          ]
        }
      ]
    },
    {
      "cell_type": "code",
      "source": [
        "#update() Multiple Element Add\n",
        "set={1,2,3,4,5}\n",
        "set.update([6,7,8,\"Apple\",\"Banana\"])\n",
        "print(set)"
      ],
      "metadata": {
        "colab": {
          "base_uri": "https://localhost:8080/"
        },
        "id": "YjZTSPd_520c",
        "outputId": "0fba707b-ed83-4134-daac-3d4f5d624188"
      },
      "execution_count": 22,
      "outputs": [
        {
          "output_type": "stream",
          "name": "stdout",
          "text": [
            "{1, 2, 3, 4, 5, 6, 7, 8, 'Apple', 'Banana'}\n"
          ]
        }
      ]
    },
    {
      "cell_type": "markdown",
      "source": [
        "Removing Set Items"
      ],
      "metadata": {
        "id": "0RwLxL6K6Pg9"
      }
    },
    {
      "cell_type": "code",
      "source": [
        "#remove() discard()\n",
        "set={1,2,3,4,5}\n",
        "set.remove(3)\n",
        "print(set)"
      ],
      "metadata": {
        "colab": {
          "base_uri": "https://localhost:8080/"
        },
        "id": "4xDkHhoi6UCX",
        "outputId": "f242f7fc-29c7-4ab3-d9b3-11f31fb9064a"
      },
      "execution_count": 23,
      "outputs": [
        {
          "output_type": "stream",
          "name": "stdout",
          "text": [
            "{1, 2, 4, 5}\n"
          ]
        }
      ]
    },
    {
      "cell_type": "code",
      "source": [
        "#pop()\n",
        "set={1,2,3,4,5}\n",
        "set.pop()\n",
        "print(set)"
      ],
      "metadata": {
        "colab": {
          "base_uri": "https://localhost:8080/"
        },
        "id": "CqsX5ugU6mJ8",
        "outputId": "681d533b-05c6-4636-bdf0-d532bdb9243f"
      },
      "execution_count": 24,
      "outputs": [
        {
          "output_type": "stream",
          "name": "stdout",
          "text": [
            "{2, 3, 4, 5}\n"
          ]
        }
      ]
    },
    {
      "cell_type": "code",
      "source": [
        "#clear()\n",
        "set={1,2,3,4,5}\n",
        "set.clear()\n",
        "print(set)"
      ],
      "metadata": {
        "colab": {
          "base_uri": "https://localhost:8080/"
        },
        "id": "3c8abT-x65I4",
        "outputId": "bc382bac-9316-47bc-a120-74b161e41333"
      },
      "execution_count": 26,
      "outputs": [
        {
          "output_type": "stream",
          "name": "stdout",
          "text": [
            "set()\n"
          ]
        }
      ]
    },
    {
      "cell_type": "markdown",
      "source": [
        "Set Operation"
      ],
      "metadata": {
        "id": "yVNGcHz07HQy"
      }
    },
    {
      "cell_type": "code",
      "source": [
        "#union\n",
        "set1={1,2,3,4,5}\n",
        "set2={4,5,6,7,8,9,10}\n",
        "print(set1.union(set2))"
      ],
      "metadata": {
        "colab": {
          "base_uri": "https://localhost:8080/"
        },
        "id": "tBWLEWiZ7KK8",
        "outputId": "c27b46fb-c36b-4a5d-ff57-964e1ff2dcaa"
      },
      "execution_count": 28,
      "outputs": [
        {
          "output_type": "stream",
          "name": "stdout",
          "text": [
            "{1, 2, 3, 4, 5, 6, 7, 8, 9, 10}\n"
          ]
        }
      ]
    },
    {
      "cell_type": "code",
      "source": [
        "#intersection\n",
        "set1={1,2,3,4,5}\n",
        "set2={4,5,6,7,8,9,10}\n",
        "print(set1.intersection(set2))"
      ],
      "metadata": {
        "colab": {
          "base_uri": "https://localhost:8080/"
        },
        "outputId": "c44a99cd-5dd9-4356-c500-a0ccf59ffb6b",
        "id": "fltNO5zm7pVj"
      },
      "execution_count": 29,
      "outputs": [
        {
          "output_type": "stream",
          "name": "stdout",
          "text": [
            "{4, 5}\n"
          ]
        }
      ]
    },
    {
      "cell_type": "code",
      "source": [
        "#difference\n",
        "set1={1,2,3,4,5}\n",
        "set2={4,5,6,7,8,9,10}\n",
        "print(set1.difference(set2))"
      ],
      "metadata": {
        "colab": {
          "base_uri": "https://localhost:8080/"
        },
        "outputId": "82890c3e-9768-4c9c-85fa-0b7f9f143729",
        "id": "ltnPzGmJ70Dy"
      },
      "execution_count": 31,
      "outputs": [
        {
          "output_type": "stream",
          "name": "stdout",
          "text": [
            "{1, 2, 3}\n"
          ]
        }
      ]
    }
  ]
}